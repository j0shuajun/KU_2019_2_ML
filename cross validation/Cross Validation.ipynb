{
 "cells": [
  {
   "cell_type": "markdown",
   "metadata": {},
   "source": [
    "# Cross Validation\n",
    "* 목적\n",
    "    1. Overfitting, underfitting을 피하기 위해\n",
    "        * Overfitting : training set에 대한 정확도는 매우 높으나 validation set에 대한 정확도는 많이 떨어지는 경우\n",
    "            1. 특성변수의 갯수 축소\n",
    "            2. 규제화 강도 강화\n",
    "            3. 전체 관측자료 증가(하지만 sample size를 늘리는 건 쉽지 않다)\n",
    "        * Underfitting : 정확도가 아예 많이 떨어지는 경우\n",
    "            1. 특성변수의 갯수 증가\n",
    "            2. 규제화 강도 약화\n",
    "            3. 다른 모델을 사용해보기\n",
    "    2. Hyperparameter의 결정\n",
    "    3. 모형간 성능 비교\n",
    "    \n",
    "![goodness](goodness.png)\n",
    "    \n",
    "* 과정\n",
    "    1. 전체 data를 training set + validation set + test set으로 구분\n",
    "    2. 초모수의 결정을 위해 training set과 validation set 사용\n",
    "        * 이때 우연히 좋거나 나쁜 validation set이 선택되는 것을 방지하기 위해 K-fold Cross Validation 수행\n",
    "        * validation set에 unbiased한 초모수를 찾는 과정\n",
    "    3. 초모수가 결정되면 test set으로 성능 평가\n",
    "        * 학습된 모형의 performance가 자료 분할에 의존되어버리는 것을 방지하기 위해 또 다시 Cross Validation 수행\n",
    "    4. 종합하면 다음과 같은 Nested Cross Validation 형태가 된다.\n",
    "        * Inner loop에서 parameter tuning을 거친 후 outer loop에서 학습된 모형의 performance 평가\n",
    "        * 이때 outer loop에서 성능 평가에 사용되는 초모수들이 항상 같지 않다.\n",
    "![nested CV](ncv.png)\n",
    "    "
   ]
  },
  {
   "cell_type": "code",
   "execution_count": 1,
   "metadata": {},
   "outputs": [],
   "source": [
    "import time\n",
    "\n",
    "import matplotlib.pyplot as plt\n",
    "from sklearn.model_selection import learning_curve\n",
    "\n",
    "import numpy as np\n",
    "import pandas as pd\n",
    "from sklearn.model_selection import train_test_split\n",
    "from sklearn.preprocessing import StandardScaler\n",
    "from sklearn.pipeline import make_pipeline\n",
    "\n",
    "from sklearn.model_selection import GridSearchCV\n",
    "from sklearn.model_selection import cross_val_score\n",
    "from sklearn.metrics import mean_squared_error\n",
    "\n",
    "from sklearn.neighbors import KNeighborsRegressor\n",
    "from sklearn.ensemble import RandomForestRegressor\n",
    "from sklearn.svm import SVR"
   ]
  },
  {
   "cell_type": "code",
   "execution_count": 2,
   "metadata": {},
   "outputs": [],
   "source": [
    "# 미국 Boston 지역의 집값 data 불러오기\n",
    "boston=pd.read_csv('https://raw.githubusercontent.com/rasbt/'\n",
    "                     'python-machine-learning-book-2nd-edition'\n",
    "                     '/master/code/ch10/housing.data.txt',header=None,sep='\\s+')\n",
    "boston.columns=['CRIM', 'ZN', 'INDUS', 'CHAS','NOX', 'RM', 'AGE', 'DIS', 'RAD','TAX', 'PTRATIO', 'B', 'LSTAT', 'MEDV']"
   ]
  },
  {
   "cell_type": "code",
   "execution_count": 3,
   "metadata": {},
   "outputs": [],
   "source": [
    "boston['LLSTAT']=np.log(boston['LSTAT'])\n",
    "boston['LINDUS']=np.log(boston['INDUS'])\n",
    "boston1=boston.drop(['LSTAT','INDUS','MEDV'],axis=1)"
   ]
  },
  {
   "cell_type": "code",
   "execution_count": 4,
   "metadata": {},
   "outputs": [],
   "source": [
    "X=boston1.values\n",
    "y=boston['MEDV'].values\n",
    "\n",
    "X_train, X_test, y_train, y_test = train_test_split(X, y, test_size=0.3, random_state=10)"
   ]
  },
  {
   "cell_type": "markdown",
   "metadata": {},
   "source": [
    "### KneighborsRegressor"
   ]
  },
  {
   "cell_type": "code",
   "execution_count": 39,
   "metadata": {},
   "outputs": [],
   "source": [
    "pipe_knr = make_pipeline(StandardScaler(), KNeighborsRegressor())\n",
    "knr_nb=[2,3,4,5,6,7,8]\n",
    "knr_wt=['uniform', 'distance']\n",
    "knr_alg=['auto', 'ball_tree', 'kd_tree', 'brute']\n",
    "grid_knr={'kneighborsregressor__n_neighbors':knr_nb,\n",
    "          'kneighborsregressor__weights':knr_wt,\n",
    "          'kneighborsregressor__algorithm':knr_alg}\n",
    "CV_knr=GridSearchCV(estimator=pipe_knr, param_grid=grid_knr, cv=10)"
   ]
  },
  {
   "cell_type": "code",
   "execution_count": 40,
   "metadata": {},
   "outputs": [
    {
     "name": "stdout",
     "output_type": "stream",
     "text": [
      "MSE of KNeighborsRegressor : 22.599\n",
      "KNeighborsRegressor Execution Time : 1.561sec\n"
     ]
    },
    {
     "name": "stderr",
     "output_type": "stream",
     "text": [
      "/Users/joshua/anaconda3/lib/python3.7/site-packages/sklearn/model_selection/_search.py:814: DeprecationWarning: The default of the `iid` parameter will change from True to False in version 0.22 and will be removed in 0.24. This will change numeric results when test-set sizes are unequal.\n",
      "  DeprecationWarning)\n"
     ]
    }
   ],
   "source": [
    "startTime = time.time()\n",
    "\n",
    "CV_knr.fit(X_train, y_train)\n",
    "y_pred_knr=CV_knr.predict(X_test)\n",
    "print('MSE of KNeighborsRegressor : %.3f' %\n",
    "      mean_squared_error(y_test, y_pred_knr))\n",
    "\n",
    "endTime = time.time() - startTime\n",
    "print('KNeighborsRegressor Execution Time : %.3fsec' % endTime)"
   ]
  },
  {
   "cell_type": "code",
   "execution_count": 7,
   "metadata": {},
   "outputs": [
    {
     "name": "stdout",
     "output_type": "stream",
     "text": [
      "0.7769742520224837\n",
      "{'kneighborsregressor__algorithm': 'auto', 'kneighborsregressor__n_neighbors': 4, 'kneighborsregressor__weights': 'distance'}\n"
     ]
    }
   ],
   "source": [
    "print(CV_knr.best_score_)\n",
    "print(CV_knr.best_params_)"
   ]
  },
  {
   "cell_type": "code",
   "execution_count": 8,
   "metadata": {},
   "outputs": [
    {
     "data": {
      "text/plain": [
       "KNeighborsRegressor(algorithm='auto', leaf_size=30, metric='minkowski',\n",
       "                    metric_params=None, n_jobs=None, n_neighbors=4, p=2,\n",
       "                    weights='distance')"
      ]
     },
     "execution_count": 8,
     "metadata": {},
     "output_type": "execute_result"
    }
   ],
   "source": [
    "knr=KNeighborsRegressor(algorithm='auto',n_neighbors=4,weights='distance')\n",
    "knr.fit(X_train, y_train)"
   ]
  },
  {
   "cell_type": "markdown",
   "metadata": {},
   "source": [
    "### RandomForestRegressor"
   ]
  },
  {
   "cell_type": "code",
   "execution_count": 9,
   "metadata": {},
   "outputs": [],
   "source": [
    "pipe_rfr = make_pipeline(StandardScaler(), RandomForestRegressor(random_state=10))\n",
    "rfr_md=[3,4,5,6,7,8,9,10]\n",
    "rfr_ne=[30,60,100,120,150]\n",
    "grid_rfr=[{'randomforestregressor__max_depth':rfr_md,\n",
    "           'randomforestregressor__n_estimators':rfr_ne}]\n",
    "CV_rfr=GridSearchCV(estimator=pipe_rfr, param_grid=grid_rfr, cv=10)"
   ]
  },
  {
   "cell_type": "code",
   "execution_count": 10,
   "metadata": {},
   "outputs": [
    {
     "name": "stderr",
     "output_type": "stream",
     "text": [
      "/Users/joshua/anaconda3/lib/python3.7/site-packages/sklearn/model_selection/_search.py:814: DeprecationWarning: The default of the `iid` parameter will change from True to False in version 0.22 and will be removed in 0.24. This will change numeric results when test-set sizes are unequal.\n",
      "  DeprecationWarning)\n"
     ]
    },
    {
     "name": "stdout",
     "output_type": "stream",
     "text": [
      "MSE of RandomForestRegressor : 22.599\n",
      "RandomForestRegressor Execution Time : 67.087sec\n"
     ]
    }
   ],
   "source": [
    "startTime=time.time()\n",
    "\n",
    "CV_rfr.fit(X_train, y_train)\n",
    "y_pred_rfr=CV_rfr.predict(X_test)\n",
    "print('MSE of RandomForestRegressor : %.3f' % mean_squared_error(y_test, y_pred_knr))\n",
    "\n",
    "endTime=time.time() - startTime\n",
    "print('RandomForestRegressor Execution Time : %.3fsec' % endTime)"
   ]
  },
  {
   "cell_type": "code",
   "execution_count": 11,
   "metadata": {
    "scrolled": false
   },
   "outputs": [
    {
     "name": "stdout",
     "output_type": "stream",
     "text": [
      "0.838637155047321\n",
      "{'randomforestregressor__max_depth': 9, 'randomforestregressor__n_estimators': 100}\n"
     ]
    }
   ],
   "source": [
    "print(CV_rfr.best_score_)\n",
    "print(CV_rfr.best_params_)"
   ]
  },
  {
   "cell_type": "code",
   "execution_count": 12,
   "metadata": {},
   "outputs": [
    {
     "name": "stdout",
     "output_type": "stream",
     "text": [
      "[0.04078465 0.00070741 0.00107973 0.01690994 0.34983636 0.01358197\n",
      " 0.06184789 0.00391774 0.01288448 0.01325719 0.01170847 0.46856034\n",
      " 0.00492382]\n"
     ]
    }
   ],
   "source": [
    "rfr=RandomForestRegressor(max_depth=9, n_estimators=100)\n",
    "rfr.fit(X_train, y_train)\n",
    "print(rfr.feature_importances_)"
   ]
  },
  {
   "cell_type": "markdown",
   "metadata": {},
   "source": [
    "### SVR"
   ]
  },
  {
   "cell_type": "code",
   "execution_count": 13,
   "metadata": {},
   "outputs": [],
   "source": [
    "pipe_svr = make_pipeline(StandardScaler(), SVR())\n",
    "svr_c=[0.0001, 0.001, 0.01, 0.1, 1, 10, 100, 1000]\n",
    "svr_g=[0.0001, 0.001, 0.01, 0.1, 1, 10, 100, 1000]\n",
    "svr_e=[0.01, 0.05, 0.1, 0.15, 0.2, 0.25, 0.3]\n",
    "grid_svr=[{'svr__kernel':['linear'], 'svr__C':svr_c, 'svr__epsilon':svr_e},\n",
    "         {'svr__kernel':['rbf','sigmoid'], 'svr__C':svr_c, 'svr__gamma':svr_g, 'svr__epsilon':svr_e}]\n",
    "CV_svr=GridSearchCV(estimator=pipe_svr, param_grid=grid_svr, cv=10)"
   ]
  },
  {
   "cell_type": "code",
   "execution_count": 14,
   "metadata": {},
   "outputs": [
    {
     "name": "stdout",
     "output_type": "stream",
     "text": [
      "MSE of SVR : 22.599\n",
      "SVR Execution Time : 215.278sec\n"
     ]
    },
    {
     "name": "stderr",
     "output_type": "stream",
     "text": [
      "/Users/joshua/anaconda3/lib/python3.7/site-packages/sklearn/model_selection/_search.py:814: DeprecationWarning: The default of the `iid` parameter will change from True to False in version 0.22 and will be removed in 0.24. This will change numeric results when test-set sizes are unequal.\n",
      "  DeprecationWarning)\n"
     ]
    }
   ],
   "source": [
    "startTime=time.time()\n",
    "\n",
    "CV_svr.fit(X_train, y_train)\n",
    "y_pred_svr=CV_svr.predict(X_test)\n",
    "print('MSE of SVR : %.3f' % mean_squared_error(y_test, y_pred_knr))\n",
    "\n",
    "endTime=time.time() - startTime\n",
    "print('SVR Execution Time : %.3fsec' % endTime)"
   ]
  },
  {
   "cell_type": "code",
   "execution_count": 15,
   "metadata": {},
   "outputs": [
    {
     "name": "stdout",
     "output_type": "stream",
     "text": [
      "0.8213758345782416\n",
      "{'svr__C': 100, 'svr__epsilon': 0.1, 'svr__gamma': 0.01, 'svr__kernel': 'rbf'}\n"
     ]
    }
   ],
   "source": [
    "print(CV_svr.best_score_)\n",
    "print(CV_svr.best_params_)"
   ]
  },
  {
   "cell_type": "code",
   "execution_count": 16,
   "metadata": {},
   "outputs": [
    {
     "data": {
      "text/plain": [
       "SVR(C=100, cache_size=200, coef0=0.0, degree=3, epsilon=0.1, gamma=0.01,\n",
       "    kernel='linear', max_iter=-1, shrinking=True, tol=0.001, verbose=False)"
      ]
     },
     "execution_count": 16,
     "metadata": {},
     "output_type": "execute_result"
    }
   ],
   "source": [
    "svr=SVR(C=100, epsilon=0.1, gamma=0.01, kernel='linear')\n",
    "svr.fit(X_train, y_train)"
   ]
  },
  {
   "cell_type": "markdown",
   "metadata": {},
   "source": [
    "### Plot"
   ]
  },
  {
   "cell_type": "code",
   "execution_count": 36,
   "metadata": {},
   "outputs": [
    {
     "data": {
      "image/png": "[encoded data removed]",
      "text/plain": [
       "<Figure size 432x288 with 1 Axes>"
      ]
     },
     "metadata": {
      "needs_background": "light"
     },
     "output_type": "display_data"
    }
   ],
   "source": [
    "preds=[y_pred_knr, y_pred_rfr, y_pred_svr]\n",
    "models=['KNeighborsRegressor','RandomForestRegressor','SVR']\n",
    "plt.figure()\n",
    "for pred, model, style in zip(preds, models,['r^-','go-','b--']):\n",
    "    plt.plot(pred[:10], style, label=model)\n",
    "\n",
    "plt.tick_params(axis='x', which='both', bottom=False, top=False,\n",
    "                labelbottom=False)\n",
    "plt.ylabel('predicted')\n",
    "plt.xlabel('training samples')\n",
    "plt.legend(loc=\"best\")\n",
    "plt.title('Comparison of 3 Models')\n",
    "plt.show()"
   ]
  },
  {
   "cell_type": "code",
   "execution_count": 19,
   "metadata": {},
   "outputs": [
    {
     "data": {
      "image/png": "[encoded data removed]",
      "text/plain": [
       "<Figure size 432x288 with 1 Axes>"
      ]
     },
     "metadata": {
      "needs_background": "light"
     },
     "output_type": "display_data"
    }
   ],
   "source": [
    "pipe_knr = make_pipeline(StandardScaler(),\n",
    "                        KNeighborsRegressor(algorithm='auto',n_neighbors=4,weights='distance'))\n",
    "train_sizes, train_scores, test_scores =\\\n",
    "             learning_curve(estimator=pipe_knr, X=X_train, y=y_train,\n",
    "                            train_sizes=np.linspace(0.1, 1.0, 10), cv=10)\n",
    "train_mean = np.mean(train_scores, axis=1)\n",
    "train_std = np.std(train_scores, axis=1)\n",
    "test_mean = np.mean(test_scores, axis=1)\n",
    "test_std = np.std(test_scores, axis=1)\n",
    "\n",
    "plt.plot(train_sizes, train_mean, color='blue', marker='o', markersize=5,\n",
    "         label='training accuracy')\n",
    "plt.fill_between(train_sizes, train_mean + train_std, train_mean - train_std,\n",
    "                 alpha=0.15, color='blue')\n",
    "\n",
    "plt.plot(train_sizes, test_mean, color='green', linestyle='--', marker='s',\n",
    "         markersize=5, label='validation accuracy')\n",
    "plt.fill_between(train_sizes, test_mean + test_std, test_mean - test_std,\n",
    "                 alpha=0.15, color='green')\n",
    "\n",
    "plt.grid()\n",
    "plt.xlabel('Number of training samples')\n",
    "plt.ylabel('Accuracy')\n",
    "plt.legend(loc='best')\n",
    "plt.ylim([0.5, 1.02])\n",
    "plt.show()"
   ]
  },
  {
   "cell_type": "code",
   "execution_count": 20,
   "metadata": {},
   "outputs": [
    {
     "data": {
      "image/png": "[encoded data removed]",
      "text/plain": [
       "<Figure size 432x288 with 1 Axes>"
      ]
     },
     "metadata": {
      "needs_background": "light"
     },
     "output_type": "display_data"
    }
   ],
   "source": [
    "pipe_rfr = make_pipeline(StandardScaler(),\n",
    "                        RandomForestRegressor(max_depth=9, n_estimators=100))\n",
    "train_sizes, train_scores, test_scores =\\\n",
    "             learning_curve(estimator=pipe_rfr, X=X_train, y=y_train,\n",
    "                            train_sizes=np.linspace(0.1, 1.0, 10), cv=10)\n",
    "train_mean = np.mean(train_scores, axis=1)\n",
    "train_std = np.std(train_scores, axis=1)\n",
    "test_mean = np.mean(test_scores, axis=1)\n",
    "test_std = np.std(test_scores, axis=1)\n",
    "\n",
    "plt.plot(train_sizes, train_mean, color='blue', marker='o', markersize=5,\n",
    "         label='training accuracy')\n",
    "plt.fill_between(train_sizes, train_mean + train_std, train_mean - train_std,\n",
    "                 alpha=0.15, color='blue')\n",
    "\n",
    "plt.plot(train_sizes, test_mean, color='green', linestyle='--', marker='s',\n",
    "         markersize=5, label='validation accuracy')\n",
    "plt.fill_between(train_sizes, test_mean + test_std, test_mean - test_std,\n",
    "                 alpha=0.15, color='green')\n",
    "\n",
    "plt.grid()\n",
    "plt.xlabel('Number of training samples')\n",
    "plt.ylabel('Accuracy')\n",
    "plt.legend(loc='best')\n",
    "plt.ylim([0.5, 1])\n",
    "plt.show()"
   ]
  },
  {
   "cell_type": "code",
   "execution_count": 21,
   "metadata": {},
   "outputs": [
    {
     "data": {
      "image/png": "[encoded data removed]",
      "text/plain": [
       "<Figure size 432x288 with 1 Axes>"
      ]
     },
     "metadata": {
      "needs_background": "light"
     },
     "output_type": "display_data"
    }
   ],
   "source": [
    "pipe_svr = make_pipeline(StandardScaler(),\n",
    "                        SVR(C=100, epsilon=0.1, gamma=0.01, kernel='linear'))\n",
    "train_sizes, train_scores, test_scores =\\\n",
    "             learning_curve(estimator=pipe_svr, X=X_train, y=y_train,\n",
    "                            train_sizes=np.linspace(0.1, 1.0, 10), cv=10)\n",
    "train_mean = np.mean(train_scores, axis=1)\n",
    "train_std = np.std(train_scores, axis=1)\n",
    "test_mean = np.mean(test_scores, axis=1)\n",
    "test_std = np.std(test_scores, axis=1)\n",
    "\n",
    "plt.plot(train_sizes, train_mean, color='blue', marker='o', markersize=5,\n",
    "         label='training accuracy')\n",
    "plt.fill_between(train_sizes, train_mean + train_std, train_mean - train_std,\n",
    "                 alpha=0.15, color='blue')\n",
    "\n",
    "plt.plot(train_sizes, test_mean, color='green', linestyle='--', marker='s',\n",
    "         markersize=5, label='validation accuracy')\n",
    "plt.fill_between(train_sizes, test_mean + test_std, test_mean - test_std,\n",
    "                 alpha=0.15, color='green')\n",
    "\n",
    "plt.grid()\n",
    "plt.xlabel('Number of training samples')\n",
    "plt.ylabel('Accuracy')\n",
    "plt.legend(loc='best')\n",
    "plt.ylim([0.5, 1])\n",
    "plt.show()"
   ]
  },
  {
   "cell_type": "code",
   "execution_count": 34,
   "metadata": {},
   "outputs": [],
   "source": [
    "df=pd.DataFrame({'Model':['KNN','RF','SVR'],\n",
    "              'MSE':[mean_squared_error(y_pred_knr,y_test), mean_squared_error(y_pred_rfr,y_test),\n",
    "                    mean_squared_error(y_pred_svr,y_test)],\n",
    "                'Time':[1.368, 67.087, 215.278]},index=None)\n",
    "df['MSE']=round(df['MSE'],3)"
   ]
  },
  {
   "cell_type": "code",
   "execution_count": 35,
   "metadata": {},
   "outputs": [
    {
     "data": {
      "text/html": [
       "<div>\n",
       "<style scoped>\n",
       "    .dataframe tbody tr th:only-of-type {\n",
       "        vertical-align: middle;\n",
       "    }\n",
       "\n",
       "    .dataframe tbody tr th {\n",
       "        vertical-align: top;\n",
       "    }\n",
       "\n",
       "    .dataframe thead th {\n",
       "        text-align: right;\n",
       "    }\n",
       "</style>\n",
       "<table border=\"1\" class=\"dataframe\">\n",
       "  <thead>\n",
       "    <tr style=\"text-align: right;\">\n",
       "      <th></th>\n",
       "      <th>0</th>\n",
       "      <th>1</th>\n",
       "      <th>2</th>\n",
       "    </tr>\n",
       "  </thead>\n",
       "  <tbody>\n",
       "    <tr>\n",
       "      <th>Model</th>\n",
       "      <td>KNN</td>\n",
       "      <td>RF</td>\n",
       "      <td>SVR</td>\n",
       "    </tr>\n",
       "    <tr>\n",
       "      <th>MSE</th>\n",
       "      <td>22.599</td>\n",
       "      <td>12.497</td>\n",
       "      <td>14.069</td>\n",
       "    </tr>\n",
       "    <tr>\n",
       "      <th>Time</th>\n",
       "      <td>1.368</td>\n",
       "      <td>67.087</td>\n",
       "      <td>215.278</td>\n",
       "    </tr>\n",
       "  </tbody>\n",
       "</table>\n",
       "</div>"
      ],
      "text/plain": [
       "            0       1        2\n",
       "Model     KNN      RF      SVR\n",
       "MSE    22.599  12.497   14.069\n",
       "Time    1.368  67.087  215.278"
      ]
     },
     "execution_count": 35,
     "metadata": {},
     "output_type": "execute_result"
    }
   ],
   "source": [
    "df.transpose()"
   ]
  }
 ],
 "metadata": {
  "kernelspec": {
   "display_name": "Python 3",
   "language": "python",
   "name": "python3"
  },
  "language_info": {
   "codemirror_mode": {
    "name": "ipython",
    "version": 3
   },
   "file_extension": ".py",
   "mimetype": "text/x-python",
   "name": "python",
   "nbconvert_exporter": "python",
   "pygments_lexer": "ipython3",
   "version": "3.7.3"
  },
  "toc": {
   "base_numbering": 1,
   "nav_menu": {},
   "number_sections": false,
   "sideBar": true,
   "skip_h1_title": false,
   "title_cell": "Table of Contents",
   "title_sidebar": "Contents",
   "toc_cell": false,
   "toc_position": {},
   "toc_section_display": true,
   "toc_window_display": false
  }
 },
 "nbformat": 4,
 "nbformat_minor": 2
}
