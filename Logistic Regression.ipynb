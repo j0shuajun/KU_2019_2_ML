{
 "cells": [
  {
   "cell_type": "code",
   "execution_count": 1,
   "metadata": {},
   "outputs": [],
   "source": [
    "import seaborn as sns\n",
    "from sklearn.preprocessing import LabelEncoder, StandardScaler #labeling, scaling\n",
    "from sklearn.model_selection import train_test_split #data split\n",
    "from sklearn.metrics import accuracy_score, confusion_matrix #checking\n",
    "from sklearn.linear_model import LogisticRegression #model"
   ]
  },
  {
   "cell_type": "markdown",
   "metadata": {},
   "source": [
    "### Data Import - Iris"
   ]
  },
  {
   "cell_type": "code",
   "execution_count": 2,
   "metadata": {},
   "outputs": [],
   "source": [
    "iris=sns.load_dataset('iris')\n",
    "X=iris.drop('species',axis=1)\n",
    "y=iris['species']\n",
    "\n",
    "#labeling\n",
    "classle=LabelEncoder()\n",
    "y=classle.fit_transform(y.values)"
   ]
  },
  {
   "cell_type": "markdown",
   "metadata": {},
   "source": [
    "### Data Split"
   ]
  },
  {
   "cell_type": "code",
   "execution_count": 3,
   "metadata": {},
   "outputs": [],
   "source": [
    "X_train, X_test, y_train, y_test=train_test_split(X,y,test_size=0.3,random_state=23,stratify=y)"
   ]
  },
  {
   "cell_type": "markdown",
   "metadata": {},
   "source": [
    "### Data Scaling"
   ]
  },
  {
   "cell_type": "code",
   "execution_count": 4,
   "metadata": {},
   "outputs": [],
   "source": [
    "sc=StandardScaler()\n",
    "sc.fit(X_train)\n",
    "X_train_std=sc.transform(X_train)\n",
    "X_test_std=sc.transform(X_test)"
   ]
  },
  {
   "cell_type": "markdown",
   "metadata": {},
   "source": [
    "### LogisticRegression\n",
    "* penalty : 규제화 종류 선택. 'l1','l2','elasticnet' and 'none'\n",
    "* C : 1/λ. C가 작을수록 강한 규제. 양의 실수여야 함.\n",
    "* solver : 최적화 사용될 알고리즘 선택. ‘newton-cg’, ‘lbfgs’, ‘liblinear’, ‘sag’ and ‘saga’\n",
    "    * 소표본의 경우 'liblinear'가 좋지만, 대표본의 경우 'sag' 혹은 'saga'가 더 빠르다.\n",
    "    * 'multinomial'의 경우 'liblinear'를 사용할 수 없다.\n",
    "    * penalty에 따라 사용가능한 solver가 다르므로 확인 필요.\n",
    "* multi_class : ‘ovr’, ‘multinomial’ and ‘auto’"
   ]
  },
  {
   "cell_type": "code",
   "execution_count": 5,
   "metadata": {},
   "outputs": [
    {
     "name": "stdout",
     "output_type": "stream",
     "text": [
      "l1 : 0.9555555555555556\n",
      "l2 : 0.9777777777777777\n"
     ]
    }
   ],
   "source": [
    "# 규제화에 따른 정확도 비교.\n",
    "for pen in ['l1','l2']:\n",
    "    logit=LogisticRegression(C=1e2,random_state=10,penalty=pen,solver='liblinear',multi_class='ovr')\n",
    "    logit.fit(X_train_std,y_train)\n",
    "    y_test_pred=logit.predict(X_test_std)\n",
    "    print('{} : {}'.format(pen,accuracy_score(y_test,y_test_pred)))"
   ]
  },
  {
   "cell_type": "code",
   "execution_count": 6,
   "metadata": {},
   "outputs": [
    {
     "name": "stdout",
     "output_type": "stream",
     "text": [
      "c=10000.0 : 0.9333333333333333\n",
      "c=100.0 : 0.9777777777777777\n",
      "c=1 : 0.9555555555555556\n",
      "c=0.01 : 0.8888888888888888\n"
     ]
    }
   ],
   "source": [
    "# λ에 따른 정확도 비교.\n",
    "# λ가 너무 크거나(작은 C값, 강한 규제) λ가 너무 작으면(큰 C값, 약한 규제) 정확도가 떨어짐.\n",
    "for c in [1e4,1e2,1,1e-2]:\n",
    "    logit=LogisticRegression(C=c,random_state=10,solver='lbfgs',multi_class='ovr')\n",
    "    logit.fit(X_train_std,y_train)\n",
    "    y_test_pred=logit.predict(X_test_std)\n",
    "    print('c={} : {}'.format(c,accuracy_score(y_test,y_test_pred)))"
   ]
  },
  {
   "cell_type": "code",
   "execution_count": 7,
   "metadata": {},
   "outputs": [
    {
     "name": "stdout",
     "output_type": "stream",
     "text": [
      "ovr : 0.9777777777777777\n",
      "multinomial : 0.9555555555555556\n",
      "auto : 0.9555555555555556\n"
     ]
    }
   ],
   "source": [
    "# binary 혹은 multi에 따른 정확도 비교.\n",
    "for mcl in ['ovr','multinomial','auto']:\n",
    "    logit=LogisticRegression(C=1e2,random_state=10,solver='lbfgs',multi_class=mcl)\n",
    "    logit.fit(X_train_std,y_train)\n",
    "    y_test_pred=logit.predict(X_test_std)\n",
    "    print('{} : {}'.format(mcl,accuracy_score(y_test,y_test_pred)))"
   ]
  }
 ],
 "metadata": {
  "kernelspec": {
   "display_name": "Python 3",
   "language": "python",
   "name": "python3"
  },
  "language_info": {
   "codemirror_mode": {
    "name": "ipython",
    "version": 3
   },
   "file_extension": ".py",
   "mimetype": "text/x-python",
   "name": "python",
   "nbconvert_exporter": "python",
   "pygments_lexer": "ipython3",
   "version": "3.7.3"
  },
  "toc": {
   "base_numbering": 1,
   "nav_menu": {},
   "number_sections": false,
   "sideBar": true,
   "skip_h1_title": false,
   "title_cell": "Table of Contents",
   "title_sidebar": "Contents",
   "toc_cell": false,
   "toc_position": {},
   "toc_section_display": true,
   "toc_window_display": false
  }
 },
 "nbformat": 4,
 "nbformat_minor": 2
}
