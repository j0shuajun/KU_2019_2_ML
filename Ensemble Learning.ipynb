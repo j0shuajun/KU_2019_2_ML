{
 "cells": [
  {
   "cell_type": "code",
   "execution_count": 157,
   "metadata": {},
   "outputs": [],
   "source": [
    "import numpy as np\n",
    "import pandas as pd\n",
    "import matplotlib.pyplot as plt\n",
    "import itertools\n",
    "\n",
    "from sklearn.datasets import make_classification\n",
    "from sklearn.model_selection import train_test_split\n",
    "from sklearn.metrics import accuracy_score\n",
    "from sklearn.model_selection import GridSearchCV\n",
    "from sklearn.model_selection import cross_val_score\n",
    "from sklearn.metrics import confusion_matrix"
   ]
  },
  {
   "cell_type": "markdown",
   "metadata": {},
   "source": [
    "# Confusion Matrix Plot"
   ]
  },
  {
   "cell_type": "code",
   "execution_count": 159,
   "metadata": {},
   "outputs": [],
   "source": [
    "def plot_confusion_matrix(cm, target_names=None, cmap=None, normalize=True, labels=True, title='Confusion matrix'):\n",
    "    accuracy = np.trace(cm) / float(np.sum(cm))\n",
    "    misclass = 1 - accuracy\n",
    "\n",
    "    if cmap is None:\n",
    "        cmap = plt.get_cmap('Blues')\n",
    "\n",
    "    if normalize:\n",
    "        cm = cm.astype('float') / cm.sum(axis=1)[:, np.newaxis]\n",
    "        \n",
    "    plt.figure(figsize=(8, 6))\n",
    "    plt.imshow(cm, interpolation='nearest', cmap=cmap)\n",
    "    plt.title(title)\n",
    "    plt.colorbar()\n",
    "\n",
    "    thresh = cm.max() / 1.5 if normalize else cm.max() / 2\n",
    "    \n",
    "    if target_names is not None:\n",
    "        tick_marks = np.arange(len(target_names))\n",
    "        plt.xticks(tick_marks, target_names)\n",
    "        plt.yticks(tick_marks, target_names)\n",
    "    \n",
    "    if labels:\n",
    "        for i, j in itertools.product(range(cm.shape[0]), range(cm.shape[1])):\n",
    "            if normalize:\n",
    "                plt.text(j, i, \"{:0.4f}\".format(cm[i, j]),\n",
    "                         horizontalalignment=\"center\",\n",
    "                         color=\"white\" if cm[i, j] > thresh else \"black\")\n",
    "            else:\n",
    "                plt.text(j, i, \"{:,}\".format(cm[i, j]),\n",
    "                         horizontalalignment=\"center\",\n",
    "                         color=\"white\" if cm[i, j] > thresh else \"black\")\n",
    "\n",
    "    plt.tight_layout()\n",
    "    plt.ylabel('True label')\n",
    "    plt.xlabel('Predicted label\\naccuracy={:0.4f}; misclass={:0.4f}'.format(accuracy, misclass))\n",
    "    plt.show()"
   ]
  },
  {
   "cell_type": "markdown",
   "metadata": {},
   "source": [
    "# Data"
   ]
  },
  {
   "cell_type": "code",
   "execution_count": 8,
   "metadata": {},
   "outputs": [],
   "source": [
    "X, y = make_classification(n_samples=600, n_features=25, n_clusters_per_class=1,\n",
    "                           n_informative=15, random_state=30)\n",
    "X_train,X_test,y_train,y_test=train_test_split(X,y, test_size=0.3, random_state=1, stratify=y)"
   ]
  },
  {
   "cell_type": "markdown",
   "metadata": {},
   "source": [
    "# Bagging - RandomForestClassifier"
   ]
  },
  {
   "cell_type": "code",
   "execution_count": 9,
   "metadata": {
    "scrolled": true
   },
   "outputs": [],
   "source": [
    "from sklearn.ensemble import RandomForestClassifier\n",
    "\n",
    "oob_score=pd.DataFrame()\n",
    "\n",
    "for n in range(20, 161, 20):\n",
    "    rf_none=RandomForestClassifier(n_estimators=n, warm_start=True,\n",
    "                                   oob_score=True, max_features=None, random_state=30)\n",
    "    rf_sqrt=RandomForestClassifier(n_estimators=n, warm_start=True,\n",
    "                                   oob_score=True, max_features='sqrt', random_state=30)\n",
    "    rf_log=RandomForestClassifier(n_estimators=n, warm_start=True,\n",
    "                                  oob_score=True, max_features='log2', random_state=30)\n",
    "    \n",
    "    clflist=[rf_none, rf_sqrt, rf_log]\n",
    "    oobs=[]\n",
    "    for clf in clflist:\n",
    "        clf.fit(X_train, y_train)\n",
    "        oobs.append(clf.oob_score_)\n",
    "        \n",
    "    oob_score['n_est='+str(n)]=oobs"
   ]
  },
  {
   "cell_type": "code",
   "execution_count": 10,
   "metadata": {
    "scrolled": true
   },
   "outputs": [
    {
     "data": {
      "text/html": [
       "<div>\n",
       "<style scoped>\n",
       "    .dataframe tbody tr th:only-of-type {\n",
       "        vertical-align: middle;\n",
       "    }\n",
       "\n",
       "    .dataframe tbody tr th {\n",
       "        vertical-align: top;\n",
       "    }\n",
       "\n",
       "    .dataframe thead th {\n",
       "        text-align: right;\n",
       "    }\n",
       "</style>\n",
       "<table border=\"1\" class=\"dataframe\">\n",
       "  <thead>\n",
       "    <tr style=\"text-align: right;\">\n",
       "      <th></th>\n",
       "      <th>n_est=20</th>\n",
       "      <th>n_est=40</th>\n",
       "      <th>n_est=60</th>\n",
       "      <th>n_est=80</th>\n",
       "      <th>n_est=100</th>\n",
       "      <th>n_est=120</th>\n",
       "      <th>n_est=140</th>\n",
       "      <th>n_est=160</th>\n",
       "    </tr>\n",
       "  </thead>\n",
       "  <tbody>\n",
       "    <tr>\n",
       "      <th>0</th>\n",
       "      <td>0.838095</td>\n",
       "      <td>0.840476</td>\n",
       "      <td>0.845238</td>\n",
       "      <td>0.859524</td>\n",
       "      <td>0.857143</td>\n",
       "      <td>0.852381</td>\n",
       "      <td>0.850000</td>\n",
       "      <td>0.852381</td>\n",
       "    </tr>\n",
       "    <tr>\n",
       "      <th>1</th>\n",
       "      <td>0.783333</td>\n",
       "      <td>0.838095</td>\n",
       "      <td>0.847619</td>\n",
       "      <td>0.852381</td>\n",
       "      <td>0.864286</td>\n",
       "      <td>0.857143</td>\n",
       "      <td>0.859524</td>\n",
       "      <td>0.857143</td>\n",
       "    </tr>\n",
       "    <tr>\n",
       "      <th>2</th>\n",
       "      <td>0.783333</td>\n",
       "      <td>0.826190</td>\n",
       "      <td>0.833333</td>\n",
       "      <td>0.823810</td>\n",
       "      <td>0.830952</td>\n",
       "      <td>0.838095</td>\n",
       "      <td>0.835714</td>\n",
       "      <td>0.838095</td>\n",
       "    </tr>\n",
       "  </tbody>\n",
       "</table>\n",
       "</div>"
      ],
      "text/plain": [
       "   n_est=20  n_est=40  n_est=60  n_est=80  n_est=100  n_est=120  n_est=140  \\\n",
       "0  0.838095  0.840476  0.845238  0.859524   0.857143   0.852381   0.850000   \n",
       "1  0.783333  0.838095  0.847619  0.852381   0.864286   0.857143   0.859524   \n",
       "2  0.783333  0.826190  0.833333  0.823810   0.830952   0.838095   0.835714   \n",
       "\n",
       "   n_est=160  \n",
       "0   0.852381  \n",
       "1   0.857143  \n",
       "2   0.838095  "
      ]
     },
     "execution_count": 10,
     "metadata": {},
     "output_type": "execute_result"
    }
   ],
   "source": [
    "oob_score"
   ]
  },
  {
   "cell_type": "code",
   "execution_count": 11,
   "metadata": {
    "scrolled": false
   },
   "outputs": [
    {
     "data": {
      "image/png": "[encoded data removed]",
      "text/plain": [
       "<Figure size 432x288 with 1 Axes>"
      ]
     },
     "metadata": {
      "needs_background": "light"
     },
     "output_type": "display_data"
    }
   ],
   "source": [
    "labelist=['RFC max_features=None', 'RFC max_features=sqrt', 'RFC max_features=log2']\n",
    "for i, label in zip(range(3),labelist):\n",
    "    plt.plot(np.arange(20,161,20),oob_score.iloc[i,:],marker='o',label=label)\n",
    "\n",
    "plt.xlabel('n_estimators')\n",
    "plt.ylabel('OOB score')\n",
    "plt.legend(loc='best')\n",
    "plt.show()"
   ]
  },
  {
   "cell_type": "code",
   "execution_count": 16,
   "metadata": {},
   "outputs": [
    {
     "name": "stdout",
     "output_type": "stream",
     "text": [
      "0.8611\n",
      "0.8500\n",
      "0.8167\n"
     ]
    }
   ],
   "source": [
    "rf_sqrt2=RandomForestClassifier(n_estimators=100, warm_start=True,\n",
    "                                   oob_score=True, max_features='sqrt', random_state=30)\n",
    "rf_log2=RandomForestClassifier(n_estimators=100, warm_start=True,\n",
    "                                   oob_score=True, max_features='log2', random_state=30)\n",
    "rf_none2=RandomForestClassifier(n_estimators=100, warm_start=True,\n",
    "                                   oob_score=True, max_features=None, random_state=30)\n",
    "\n",
    "for clf in [rf_sqrt2, rf_log2, rf_none2]:\n",
    "    clf.fit(X_train, y_train)\n",
    "    y_pred=clf.predict(X_test)\n",
    "    print('%.4f' % accuracy_score(y_pred, y_test))"
   ]
  },
  {
   "cell_type": "markdown",
   "metadata": {},
   "source": [
    "# Boosting - XGBoost"
   ]
  },
  {
   "cell_type": "code",
   "execution_count": 90,
   "metadata": {},
   "outputs": [],
   "source": [
    "import xgboost as xgb\n",
    "D_train=xgb.DMatrix(X_train, label=y_train)\n",
    "D_test=xgb.DMatrix(X_test, label=y_test)"
   ]
  },
  {
   "cell_type": "markdown",
   "metadata": {},
   "source": [
    "## Parameter Tuning"
   ]
  },
  {
   "cell_type": "code",
   "execution_count": 78,
   "metadata": {},
   "outputs": [
    {
     "name": "stderr",
     "output_type": "stream",
     "text": [
      "/Users/joshua/anaconda3/lib/python3.7/site-packages/sklearn/model_selection/_search.py:814: DeprecationWarning: The default of the `iid` parameter will change from True to False in version 0.22 and will be removed in 0.24. This will change numeric results when test-set sizes are unequal.\n",
      "  DeprecationWarning)\n"
     ]
    },
    {
     "data": {
      "text/plain": [
       "GridSearchCV(cv=5, error_score='raise-deprecating',\n",
       "             estimator=XGBClassifier(base_score=0.5, booster='gbtree',\n",
       "                                     colsample_bylevel=1, colsample_bynode=1,\n",
       "                                     colsample_bytree=1, gamma=0,\n",
       "                                     learning_rate=0.1, max_delta_step=0,\n",
       "                                     max_depth=3, min_child_weight=1,\n",
       "                                     missing=None, n_estimators=100, n_jobs=1,\n",
       "                                     nthread=None, objective='binary:logistic',\n",
       "                                     random_state=0, reg_alpha=0, reg_lambda=1,\n",
       "                                     scale_pos_weight=1, seed=None, silent=None,\n",
       "                                     subsample=1, verbosity=1),\n",
       "             iid='warn', n_jobs=None,\n",
       "             param_grid={'colsample_bytree': [0.2, 0.4, 0.6, 0.8, 1],\n",
       "                         'eta': [0.01, 0.05, 0.1, 0.2, 0.3],\n",
       "                         'gamma': [0, 0.1, 0.2, 0.3],\n",
       "                         'max_depth': [3, 5, 7, 9, 11]},\n",
       "             pre_dispatch='2*n_jobs', refit=True, return_train_score=False,\n",
       "             scoring='accuracy', verbose=0)"
      ]
     },
     "execution_count": 78,
     "metadata": {},
     "output_type": "execute_result"
    }
   ],
   "source": [
    "xgbc=xgb.XGBClassifier(objective='binary:logistic', booster='gbtree')\n",
    "\n",
    "parameters={\n",
    "    'max_depth' : [3, 5, 7, 9, 11],\n",
    "    'gamma' : [0, 0.1, 0.2, 0.3],\n",
    "    'colsample_bytree' : [0.2, 0.4, 0.6, 0.8, 1],\n",
    "    'eta' : [0.01, 0.05, 0.1, 0.2, 0.3]\n",
    "}\n",
    "\n",
    "gcv=GridSearchCV(xgbc, param_grid=parameters, scoring='accuracy', cv=5)\n",
    "gcv.fit(X_train, y_train)"
   ]
  },
  {
   "cell_type": "code",
   "execution_count": 150,
   "metadata": {},
   "outputs": [
    {
     "data": {
      "text/plain": [
       "({'colsample_bytree': 0.8, 'eta': 0.01, 'gamma': 0, 'max_depth': 11},\n",
       " 0.8738095238095238)"
      ]
     },
     "execution_count": 150,
     "metadata": {},
     "output_type": "execute_result"
    }
   ],
   "source": [
    "gcv.best_params_, gcv.best_score_"
   ]
  },
  {
   "cell_type": "code",
   "execution_count": 140,
   "metadata": {},
   "outputs": [],
   "source": [
    "best_param={\n",
    "    'objective' : 'binary:logistic',\n",
    "    'booster' : 'gbtree',\n",
    "    'colsample_bytree' : 0.8,\n",
    "    'eta' : 0.01,\n",
    "    'gamma' : 0,\n",
    "    'max_depth' : 11\n",
    "}"
   ]
  },
  {
   "cell_type": "code",
   "execution_count": 141,
   "metadata": {
    "scrolled": true
   },
   "outputs": [
    {
     "name": "stdout",
     "output_type": "stream",
     "text": [
      "Non-nested CV accuracy : 0.8056\n"
     ]
    }
   ],
   "source": [
    "bestclf=xgb.train(dtrain=D_train, params=best_param, num_boost_round=60) \n",
    "D_pred=bestclf.predict(D_test)\n",
    "\n",
    "D_pred[D_pred>=0.5]=1\n",
    "D_pred[D_pred<0.5]=0\n",
    "print('Non-nested CV accuracy : %.4f' % accuracy_score(D_pred, y_test))"
   ]
  },
  {
   "cell_type": "code",
   "execution_count": 160,
   "metadata": {
    "scrolled": false
   },
   "outputs": [
    {
     "data": {
      "image/png": "[encoded data removed]",
      "text/plain": [
       "<Figure size 576x432 with 2 Axes>"
      ]
     },
     "metadata": {
      "needs_background": "light"
     },
     "output_type": "display_data"
    }
   ],
   "source": [
    "cm=confusion_matrix(y_test, D_pred)\n",
    "plot_confusion_matrix(cm)"
   ]
  },
  {
   "cell_type": "markdown",
   "metadata": {},
   "source": [
    "## Nested Cross Validation"
   ]
  },
  {
   "cell_type": "code",
   "execution_count": 138,
   "metadata": {
    "scrolled": true
   },
   "outputs": [
    {
     "name": "stderr",
     "output_type": "stream",
     "text": [
      "/Users/joshua/anaconda3/lib/python3.7/site-packages/sklearn/model_selection/_search.py:814: DeprecationWarning: The default of the `iid` parameter will change from True to False in version 0.22 and will be removed in 0.24. This will change numeric results when test-set sizes are unequal.\n",
      "  DeprecationWarning)\n"
     ]
    },
    {
     "name": "stdout",
     "output_type": "stream",
     "text": [
      "CV accuracy: 0.867 +/- 0.032\n"
     ]
    }
   ],
   "source": [
    "gs = GridSearchCV(xgbc, param_grid=parameters, scoring='accuracy', cv=2)\n",
    "scores = cross_val_score(gs, X, y, scoring='accuracy', cv=5)"
   ]
  },
  {
   "cell_type": "code",
   "execution_count": 142,
   "metadata": {},
   "outputs": [
    {
     "name": "stdout",
     "output_type": "stream",
     "text": [
      "Nested CV accuracy : 0.8666 +/- 0.0321\n"
     ]
    }
   ],
   "source": [
    "print('Nested CV accuracy : %.4f +/- %.4f' % (np.mean(scores), np.std(scores)))"
   ]
  },
  {
   "cell_type": "code",
   "execution_count": 165,
   "metadata": {},
   "outputs": [
    {
     "name": "stdout",
     "output_type": "stream",
     "text": [
      "SVM accuracy : 0.8056\n"
     ]
    }
   ],
   "source": [
    "from sklearn.svm import SVC\n",
    "svm=SVC(kernel='linear',C=1.0,random_state=1)\n",
    "svm.fit(X_train,y_train)\n",
    "y_pred=svm.predict(X_test)\n",
    "print('SVM accuracy : %.4f' % accuracy_score(y_test, y_pred))"
   ]
  }
 ],
 "metadata": {
  "kernelspec": {
   "display_name": "Python 3",
   "language": "python",
   "name": "python3"
  },
  "language_info": {
   "codemirror_mode": {
    "name": "ipython",
    "version": 3
   },
   "file_extension": ".py",
   "mimetype": "text/x-python",
   "name": "python",
   "nbconvert_exporter": "python",
   "pygments_lexer": "ipython3",
   "version": "3.7.3"
  },
  "toc": {
   "base_numbering": 1,
   "nav_menu": {},
   "number_sections": false,
   "sideBar": true,
   "skip_h1_title": false,
   "title_cell": "Table of Contents",
   "title_sidebar": "Contents",
   "toc_cell": false,
   "toc_position": {},
   "toc_section_display": true,
   "toc_window_display": false
  }
 },
 "nbformat": 4,
 "nbformat_minor": 2
}
